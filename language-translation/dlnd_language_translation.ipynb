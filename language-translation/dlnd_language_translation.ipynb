{
 "cells": [
  {
   "cell_type": "markdown",
   "metadata": {
    "collapsed": true
   },
   "source": [
    "# Language Translation\n",
    "In this project, you’re going to take a peek into the realm of neural network machine translation.  You’ll be training a sequence to sequence model on a dataset of English and French sentences that can translate new sentences from English to French.\n",
    "## Get the Data\n",
    "Since translating the whole language of English to French will take lots of time to train, we have provided you with a small portion of the English corpus."
   ]
  },
  {
   "cell_type": "code",
   "execution_count": 1,
   "metadata": {
    "collapsed": true
   },
   "outputs": [],
   "source": [
    "\"\"\"\n",
    "DON'T MODIFY ANYTHING IN THIS CELL\n",
    "\"\"\"\n",
    "import helper\n",
    "import problem_unittests as tests\n",
    "\n",
    "source_path = 'data/small_vocab_en'\n",
    "target_path = 'data/small_vocab_fr'\n",
    "source_text = helper.load_data(source_path)\n",
    "target_text = helper.load_data(target_path)"
   ]
  },
  {
   "cell_type": "markdown",
   "metadata": {},
   "source": [
    "## Explore the Data\n",
    "Play around with view_sentence_range to view different parts of the data."
   ]
  },
  {
   "cell_type": "code",
   "execution_count": 2,
   "metadata": {},
   "outputs": [
    {
     "name": "stdout",
     "output_type": "stream",
     "text": [
      "Dataset Stats\n",
      "Roughly the number of unique words: 227\n",
      "Number of sentences: 137861\n",
      "Average number of words in a sentence: 13.225277634719028\n",
      "\n",
      "English sentences 20 to 30:\n",
      "china is usually pleasant during november , and it is never quiet in october .\n",
      "the united states is never nice during february , but it is sometimes pleasant in april .\n",
      "india is never busy during autumn , and it is mild in spring .\n",
      "paris is mild during summer , but it is usually busy in april .\n",
      "france is never cold during september , and it is snowy in october .\n",
      "california is never cold during may , and it is sometimes chilly in march .\n",
      "he dislikes lemons , grapes , and mangoes.\n",
      "their favorite fruit is the mango , but our favorite is the pear .\n",
      "france is sometimes quiet during may , and it is never chilly in august .\n",
      "paris is never pleasant during september , and it is beautiful in autumn .\n",
      "\n",
      "French sentences 20 to 30:\n",
      "chine est généralement agréable en novembre , et il est jamais tranquille en octobre .\n",
      "les états-unis est jamais agréable en février , mais il est parfois agréable en avril .\n",
      "l' inde est jamais occupé à l'automne , et il est doux au printemps .\n",
      "paris est doux pendant l' été , mais il est généralement occupé en avril .\n",
      "france ne fait jamais froid en septembre , et il est neigeux en octobre .\n",
      "californie ne fait jamais froid au mois de mai , et il est parfois frisquet en mars .\n",
      "il déteste les citrons , les raisins et les mangues .\n",
      "leur fruit préféré est la mangue , mais notre préféré est la poire .\n",
      "la france est parfois calme au mois de mai , et il est jamais froid en août .\n",
      "paris est jamais agréable en septembre , et il est beau à l' automne .\n"
     ]
    }
   ],
   "source": [
    "view_sentence_range = (20, 30)\n",
    "\n",
    "\"\"\"\n",
    "DON'T MODIFY ANYTHING IN THIS CELL\n",
    "\"\"\"\n",
    "import numpy as np\n",
    "\n",
    "print('Dataset Stats')\n",
    "print('Roughly the number of unique words: {}'.format(len({word: None for word in source_text.split()})))\n",
    "\n",
    "sentences = source_text.split('\\n')\n",
    "word_counts = [len(sentence.split()) for sentence in sentences]\n",
    "print('Number of sentences: {}'.format(len(sentences)))\n",
    "print('Average number of words in a sentence: {}'.format(np.average(word_counts)))\n",
    "\n",
    "print()\n",
    "print('English sentences {} to {}:'.format(*view_sentence_range))\n",
    "print('\\n'.join(source_text.split('\\n')[view_sentence_range[0]:view_sentence_range[1]]))\n",
    "print()\n",
    "print('French sentences {} to {}:'.format(*view_sentence_range))\n",
    "print('\\n'.join(target_text.split('\\n')[view_sentence_range[0]:view_sentence_range[1]]))"
   ]
  },
  {
   "cell_type": "markdown",
   "metadata": {},
   "source": [
    "## Implement Preprocessing Function\n",
    "### Text to Word Ids\n",
    "As you did with other RNNs, you must turn the text into a number so the computer can understand it. In the function `text_to_ids()`, you'll turn `source_text` and `target_text` from words to ids.  However, you need to add the `<EOS>` word id at the end of `target_text`.  This will help the neural network predict when the sentence should end.\n",
    "\n",
    "You can get the `<EOS>` word id by doing:\n",
    "```python\n",
    "target_vocab_to_int['<EOS>']\n",
    "```\n",
    "You can get other word ids using `source_vocab_to_int` and `target_vocab_to_int`."
   ]
  },
  {
   "cell_type": "code",
   "execution_count": 3,
   "metadata": {},
   "outputs": [
    {
     "name": "stdout",
     "output_type": "stream",
     "text": [
      "Tests Passed\n"
     ]
    }
   ],
   "source": [
    "def text_to_ids(source_text, target_text, source_vocab_to_int, target_vocab_to_int):\n",
    "    \"\"\"\n",
    "    Convert source and target text to proper word ids\n",
    "    :param source_text: String that contains all the source text.\n",
    "    :param target_text: String that contains all the target text.\n",
    "    :param source_vocab_to_int: Dictionary to go from the source words to an id\n",
    "    :param target_vocab_to_int: Dictionary to go from the target words to an id\n",
    "    :return: A tuple of lists (source_id_text, target_id_text)\n",
    "    \"\"\"\n",
    "    # TODO: Implement Function\n",
    "    source_split_line = source_text.split('\\n')\n",
    "    target_split_line = target_text.split('\\n')\n",
    "    source_split_word = [line.split() for line in source_split_line]\n",
    "    target_split_word = [line.split() for line in target_split_line]\n",
    "    for line in target_split_word:\n",
    "        line.append('<EOS>') \n",
    "    source_return = [[source_vocab_to_int[word] for word in line] for line in source_split_word]\n",
    "    target_return = [[target_vocab_to_int[word] for word in line] for line in target_split_word]\n",
    "    return source_return, target_return\n",
    "\n",
    "\"\"\"\n",
    "DON'T MODIFY ANYTHING IN THIS CELL THAT IS BELOW THIS LINE\n",
    "\"\"\"\n",
    "tests.test_text_to_ids(text_to_ids)"
   ]
  },
  {
   "cell_type": "markdown",
   "metadata": {},
   "source": [
    "### Preprocess all the data and save it\n",
    "Running the code cell below will preprocess all the data and save it to file."
   ]
  },
  {
   "cell_type": "code",
   "execution_count": 4,
   "metadata": {
    "collapsed": true
   },
   "outputs": [],
   "source": [
    "\"\"\"\n",
    "DON'T MODIFY ANYTHING IN THIS CELL\n",
    "\"\"\"\n",
    "helper.preprocess_and_save_data(source_path, target_path, text_to_ids)"
   ]
  },
  {
   "cell_type": "markdown",
   "metadata": {},
   "source": [
    "# Check Point\n",
    "This is your first checkpoint. If you ever decide to come back to this notebook or have to restart the notebook, you can start from here. The preprocessed data has been saved to disk."
   ]
  },
  {
   "cell_type": "code",
   "execution_count": 5,
   "metadata": {
    "collapsed": true
   },
   "outputs": [],
   "source": [
    "\"\"\"\n",
    "DON'T MODIFY ANYTHING IN THIS CELL\n",
    "\"\"\"\n",
    "import numpy as np\n",
    "import helper\n",
    "\n",
    "(source_int_text, target_int_text), (source_vocab_to_int, target_vocab_to_int), _ = helper.load_preprocess()"
   ]
  },
  {
   "cell_type": "markdown",
   "metadata": {},
   "source": [
    "### Check the Version of TensorFlow and Access to GPU\n",
    "This will check to make sure you have the correct version of TensorFlow and access to a GPU"
   ]
  },
  {
   "cell_type": "code",
   "execution_count": 6,
   "metadata": {},
   "outputs": [
    {
     "name": "stdout",
     "output_type": "stream",
     "text": [
      "TensorFlow Version: 1.2.1\n",
      "Default GPU Device: /gpu:0\n"
     ]
    }
   ],
   "source": [
    "\"\"\"\n",
    "DON'T MODIFY ANYTHING IN THIS CELL\n",
    "\"\"\"\n",
    "from distutils.version import LooseVersion\n",
    "import warnings\n",
    "import tensorflow as tf\n",
    "from tensorflow.python.layers.core import Dense\n",
    "\n",
    "# Check TensorFlow Version\n",
    "assert LooseVersion(tf.__version__) >= LooseVersion('1.1'), 'Please use TensorFlow version 1.1 or newer'\n",
    "print('TensorFlow Version: {}'.format(tf.__version__))\n",
    "\n",
    "# Check for a GPU\n",
    "if not tf.test.gpu_device_name():\n",
    "    warnings.warn('No GPU found. Please use a GPU to train your neural network.')\n",
    "else:\n",
    "    print('Default GPU Device: {}'.format(tf.test.gpu_device_name()))"
   ]
  },
  {
   "cell_type": "markdown",
   "metadata": {},
   "source": [
    "## Build the Neural Network\n",
    "You'll build the components necessary to build a Sequence-to-Sequence model by implementing the following functions below:\n",
    "- `model_inputs`\n",
    "- `process_decoder_input`\n",
    "- `encoding_layer`\n",
    "- `decoding_layer_train`\n",
    "- `decoding_layer_infer`\n",
    "- `decoding_layer`\n",
    "- `seq2seq_model`\n",
    "\n",
    "### Input\n",
    "Implement the `model_inputs()` function to create TF Placeholders for the Neural Network. It should create the following placeholders:\n",
    "\n",
    "- Input text placeholder named \"input\" using the TF Placeholder name parameter with rank 2.\n",
    "- Targets placeholder with rank 2.\n",
    "- Learning rate placeholder with rank 0.\n",
    "- Keep probability placeholder named \"keep_prob\" using the TF Placeholder name parameter with rank 0.\n",
    "- Target sequence length placeholder named \"target_sequence_length\" with rank 1\n",
    "- Max target sequence length tensor named \"max_target_len\" getting its value from applying tf.reduce_max on the target_sequence_length placeholder. Rank 0.\n",
    "- Source sequence length placeholder named \"source_sequence_length\" with rank 1\n",
    "\n",
    "Return the placeholders in the following the tuple (input, targets, learning rate, keep probability, target sequence length, max target sequence length, source sequence length)"
   ]
  },
  {
   "cell_type": "code",
   "execution_count": 7,
   "metadata": {},
   "outputs": [
    {
     "name": "stdout",
     "output_type": "stream",
     "text": [
      "Tests Passed\n"
     ]
    }
   ],
   "source": [
    "def model_inputs():\n",
    "    \"\"\"\n",
    "    Create TF Placeholders for input, targets, learning rate, and lengths of source and target sequences.\n",
    "    :return: Tuple (input, targets, learning rate, keep probability, target sequence length,\n",
    "    max target sequence length, source sequence length)\n",
    "    \"\"\"\n",
    "    # TODO: Implement Function\n",
    "    Input = tf.placeholder(tf.int32, [None,None], name='input')\n",
    "    Targets = tf.placeholder(tf.int32,[None,None], name='targets')\n",
    "    Learn_Rate = tf.placeholder(tf.float32, shape=(), name='learning_rate')\n",
    "    Keep_Prob = tf.placeholder(tf.float32, shape=(), name='keep_prob')\n",
    "    Target_Sequence_Length = tf.placeholder(tf.int32, [None], name='target_sequence_length')\n",
    "    Max_Target_Sequence_Length = tf.reduce_max(Target_Sequence_Length, name='max_target_len')\n",
    "    Source_Sequence_Length = tf.placeholder(tf.int32, [None], name='source_sequence_length')\n",
    "    return Input, Targets, Learn_Rate, Keep_Prob, Target_Sequence_Length, Max_Target_Sequence_Length, Source_Sequence_Length\n",
    "\n",
    "\n",
    "\"\"\"\n",
    "DON'T MODIFY ANYTHING IN THIS CELL THAT IS BELOW THIS LINE\n",
    "\"\"\"\n",
    "tests.test_model_inputs(model_inputs)"
   ]
  },
  {
   "cell_type": "code",
   "execution_count": 8,
   "metadata": {},
   "outputs": [
    {
     "name": "stdout",
     "output_type": "stream",
     "text": [
      "0\n"
     ]
    }
   ],
   "source": [
    "with tf.Session() as sess:\n",
    "    Input, Targets, Learn_Rate, Keep_Prob, Target_Sequence_Length, Max_Target_Sequence_Length, Source_Sequence_Length\\\n",
    "    = model_inputs()\n",
    "    print(Max_Target_Sequence_Length.get_shape().ndims)"
   ]
  },
  {
   "cell_type": "markdown",
   "metadata": {},
   "source": [
    "### Process Decoder Input\n",
    "Implement `process_decoder_input` by removing the last word id from each batch in `target_data` and concat the GO ID to the begining of each batch."
   ]
  },
  {
   "cell_type": "code",
   "execution_count": 9,
   "metadata": {},
   "outputs": [
    {
     "name": "stdout",
     "output_type": "stream",
     "text": [
      "Tests Passed\n"
     ]
    }
   ],
   "source": [
    "def process_decoder_input(target_data, target_vocab_to_int, batch_size):\n",
    "    \"\"\"\n",
    "    Preprocess target data for encoding\n",
    "    :param target_data: Target Placehoder\n",
    "    :param target_vocab_to_int: Dictionary to go from the target words to an id\n",
    "    :param batch_size: Batch Size\n",
    "    :return: Preprocessed target data\n",
    "    \"\"\"\n",
    "    # TODO: Implement Function\n",
    "    ending = tf.strided_slice(target_data, [0, 0], [batch_size, -1], [1, 1])\n",
    "    dec_input = tf.concat([tf.fill([batch_size, 1], target_vocab_to_int['<GO>']), ending], 1)\n",
    "    return dec_input\n",
    "\n",
    "\"\"\"\n",
    "DON'T MODIFY ANYTHING IN THIS CELL THAT IS BELOW THIS LINE\n",
    "\"\"\"\n",
    "tests.test_process_encoding_input(process_decoder_input)"
   ]
  },
  {
   "cell_type": "markdown",
   "metadata": {},
   "source": [
    "### Encoding\n",
    "Implement `encoding_layer()` to create a Encoder RNN layer:\n",
    " * Embed the encoder input using [`tf.contrib.layers.embed_sequence`](https://www.tensorflow.org/api_docs/python/tf/contrib/layers/embed_sequence)\n",
    " * Construct a [stacked](https://github.com/tensorflow/tensorflow/blob/6947f65a374ebf29e74bb71e36fd82760056d82c/tensorflow/docs_src/tutorials/recurrent.md#stacking-multiple-lstms) [`tf.contrib.rnn.LSTMCell`](https://www.tensorflow.org/api_docs/python/tf/contrib/rnn/LSTMCell) wrapped in a [`tf.contrib.rnn.DropoutWrapper`](https://www.tensorflow.org/api_docs/python/tf/contrib/rnn/DropoutWrapper)\n",
    " * Pass cell and embedded input to [`tf.nn.dynamic_rnn()`](https://www.tensorflow.org/api_docs/python/tf/nn/dynamic_rnn)"
   ]
  },
  {
   "cell_type": "code",
   "execution_count": 10,
   "metadata": {
    "scrolled": false
   },
   "outputs": [
    {
     "name": "stdout",
     "output_type": "stream",
     "text": [
      "Tests Passed\n"
     ]
    }
   ],
   "source": [
    "from imp import reload\n",
    "reload(tests)\n",
    "\n",
    "def encoding_layer(rnn_inputs, rnn_size, num_layers, keep_prob, \n",
    "                   source_sequence_length, source_vocab_size, \n",
    "                   encoding_embedding_size):\n",
    "    \"\"\"\n",
    "    Create encoding layer\n",
    "    :param rnn_inputs: Inputs for the RNN\n",
    "    :param rnn_size: RNN Size\n",
    "    :param num_layers: Number of layers\n",
    "    :param keep_prob: Dropout keep probability\n",
    "    :param source_sequence_length: a list of the lengths of each sequence in the batch\n",
    "    :param source_vocab_size: vocabulary size of source data\n",
    "    :param encoding_embedding_size: embedding size of source data\n",
    "    :return: tuple (RNN output, RNN state)\n",
    "    \"\"\"\n",
    "    # TODO: Implement Function\n",
    "\n",
    "    #Create embeded sequence\n",
    "    enc_embed_input = tf.contrib.layers.embed_sequence(rnn_inputs, source_vocab_size, encoding_embedding_size)\n",
    "    #Create lstm cell\n",
    "    def make_cell(rnn_size):\n",
    "        return tf.contrib.rnn.BasicLSTMCell(rnn_size)\n",
    "    # Stack up multiple LSTM layers, for deep learning\n",
    "    enc_cell = tf.contrib.rnn.MultiRNNCell([make_cell(rnn_size) for _ in range(num_layers)])\n",
    "    enc_cell = tf.contrib.rnn.DropoutWrapper(enc_cell, input_keep_prob=keep_prob, output_keep_prob=keep_prob)\n",
    "    rnn_output, rnn_state = tf.nn.dynamic_rnn(enc_cell, enc_embed_input, sequence_length=source_sequence_length,\\\n",
    "                                                 dtype = tf.float32)\n",
    "    return rnn_output, rnn_state\n",
    "\n",
    "\"\"\"\n",
    "DON'T MODIFY ANYTHING IN THIS CELL THAT IS BELOW THIS LINE\n",
    "\"\"\"\n",
    "tests.test_encoding_layer(encoding_layer)"
   ]
  },
  {
   "cell_type": "markdown",
   "metadata": {},
   "source": [
    "### Decoding - Training\n",
    "Create a training decoding layer:\n",
    "* Create a [`tf.contrib.seq2seq.TrainingHelper`](https://www.tensorflow.org/api_docs/python/tf/contrib/seq2seq/TrainingHelper) \n",
    "* Create a [`tf.contrib.seq2seq.BasicDecoder`](https://www.tensorflow.org/api_docs/python/tf/contrib/seq2seq/BasicDecoder)\n",
    "* Obtain the decoder outputs from [`tf.contrib.seq2seq.dynamic_decode`](https://www.tensorflow.org/api_docs/python/tf/contrib/seq2seq/dynamic_decode)"
   ]
  },
  {
   "cell_type": "code",
   "execution_count": 11,
   "metadata": {},
   "outputs": [
    {
     "name": "stdout",
     "output_type": "stream",
     "text": [
      "Tests Passed\n"
     ]
    }
   ],
   "source": [
    "\n",
    "def decoding_layer_train(encoder_state, dec_cell, dec_embed_input, \n",
    "                         target_sequence_length, max_summary_length, \n",
    "                         output_layer, keep_prob):\n",
    "    \"\"\"\n",
    "    Create a decoding layer for training\n",
    "    :param encoder_state: Encoder State\n",
    "    :param dec_cell: Decoder RNN Cell\n",
    "    :param dec_embed_input: Decoder embedded input\n",
    "    :param target_sequence_length: The lengths of each sequence in the target batch\n",
    "    :param max_summary_length: The length of the longest sequence in the batch\n",
    "    :param output_layer: Function to apply the output layer\n",
    "    :param keep_prob: Dropout keep probability\n",
    "    :return: BasicDecoderOutput containing training logits and sample_id\n",
    "    \"\"\"\n",
    "    # TODO: Implement Function\n",
    "    # Add dropout to the RNN\n",
    "    dec_cell = tf.contrib.rnn.DropoutWrapper(dec_cell, input_keep_prob=keep_prob, output_keep_prob=keep_prob)\n",
    "    #Create a training_helper to feed in the proper inputs to the decoder\n",
    "    training_helper = tf.contrib.seq2seq.TrainingHelper(inputs=dec_embed_input,\\\n",
    "                                                       sequence_length=target_sequence_length,\\\n",
    "                                                       time_major=False)\n",
    "    \n",
    "    #Basic decoder\n",
    "    training_decoder = tf.contrib.seq2seq.BasicDecoder(dec_cell, training_helper, encoder_state, output_layer)\n",
    "    \n",
    "    training_decoder_output, _, _ = tf.contrib.seq2seq.dynamic_decode(training_decoder, impute_finished=True,\\\n",
    "                                                                      maximum_iterations=max_summary_length)\n",
    "    \n",
    "    return training_decoder_output\n",
    "\n",
    "\n",
    "\n",
    "\"\"\"\n",
    "DON'T MODIFY ANYTHING IN THIS CELL THAT IS BELOW THIS LINE\n",
    "\"\"\"\n",
    "tests.test_decoding_layer_train(decoding_layer_train)"
   ]
  },
  {
   "cell_type": "markdown",
   "metadata": {},
   "source": [
    "### Decoding - Inference\n",
    "Create inference decoder:\n",
    "* Create a [`tf.contrib.seq2seq.GreedyEmbeddingHelper`](https://www.tensorflow.org/api_docs/python/tf/contrib/seq2seq/GreedyEmbeddingHelper)\n",
    "* Create a [`tf.contrib.seq2seq.BasicDecoder`](https://www.tensorflow.org/api_docs/python/tf/contrib/seq2seq/BasicDecoder)\n",
    "* Obtain the decoder outputs from [`tf.contrib.seq2seq.dynamic_decode`](https://www.tensorflow.org/api_docs/python/tf/contrib/seq2seq/dynamic_decode)"
   ]
  },
  {
   "cell_type": "code",
   "execution_count": 12,
   "metadata": {
    "scrolled": true
   },
   "outputs": [
    {
     "name": "stdout",
     "output_type": "stream",
     "text": [
      "Tests Passed\n"
     ]
    }
   ],
   "source": [
    "def decoding_layer_infer(encoder_state, dec_cell, dec_embeddings, start_of_sequence_id,\n",
    "                         end_of_sequence_id, max_target_sequence_length,\n",
    "                         vocab_size, output_layer, batch_size, keep_prob):\n",
    "    \"\"\"\n",
    "    Create a decoding layer for inference\n",
    "    :param encoder_state: Encoder state\n",
    "    :param dec_cell: Decoder RNN Cell\n",
    "    :param dec_embeddings: Decoder embeddings\n",
    "    :param start_of_sequence_id: GO ID\n",
    "    :param end_of_sequence_id: EOS Id\n",
    "    :param max_target_sequence_length: Maximum length of target sequences\n",
    "    :param vocab_size: Size of decoder/target vocabulary\n",
    "    :param decoding_scope: TenorFlow Variable Scope for decoding\n",
    "    :param output_layer: Function to apply the output layer\n",
    "    :param batch_size: Batch size\n",
    "    :param keep_prob: Dropout keep probability\n",
    "    :return: BasicDecoderOutput containing inference logits and sample_id\n",
    "    \"\"\"\n",
    "    # TODO: Implement Function\n",
    "    #Create a tensor of the start token for use in greedy helper\n",
    "    start_tokens = tf.tile(tf.constant([start_of_sequence_id], tf.int32), [batch_size], name='start_tokens')\n",
    "    #Create helper for inference decoder\n",
    "    infer_helper = tf.contrib.seq2seq.GreedyEmbeddingHelper(dec_embeddings,\n",
    "                                                           start_tokens,\n",
    "                                                           end_of_sequence_id)\n",
    "    #create inference decoder\n",
    "    infer_decoder = tf.contrib.seq2seq.BasicDecoder(dec_cell,\n",
    "                                                   infer_helper,\n",
    "                                                   encoder_state,\n",
    "                                                   output_layer)\n",
    "    infer_decoder_output, _, _ = tf.contrib.seq2seq.dynamic_decode(infer_decoder,\n",
    "                                                                impute_finished=True,\n",
    "                                                               maximum_iterations=max_target_sequence_length)\n",
    "    return infer_decoder_output\n",
    "\n",
    "\n",
    "\n",
    "\"\"\"\n",
    "DON'T MODIFY ANYTHING IN THIS CELL THAT IS BELOW THIS LINE\n",
    "\"\"\"\n",
    "tests.test_decoding_layer_infer(decoding_layer_infer)"
   ]
  },
  {
   "cell_type": "markdown",
   "metadata": {},
   "source": [
    "### Build the Decoding Layer\n",
    "Implement `decoding_layer()` to create a Decoder RNN layer.\n",
    "\n",
    "* Embed the target sequences\n",
    "* Construct the decoder LSTM cell (just like you constructed the encoder cell above)\n",
    "* Create an output layer to map the outputs of the decoder to the elements of our vocabulary\n",
    "* Use the your `decoding_layer_train(encoder_state, dec_cell, dec_embed_input, target_sequence_length, max_target_sequence_length, output_layer, keep_prob)` function to get the training logits.\n",
    "* Use your `decoding_layer_infer(encoder_state, dec_cell, dec_embeddings, start_of_sequence_id, end_of_sequence_id, max_target_sequence_length, vocab_size, output_layer, batch_size, keep_prob)` function to get the inference logits.\n",
    "\n",
    "Note: You'll need to use [tf.variable_scope](https://www.tensorflow.org/api_docs/python/tf/variable_scope) to share variables between training and inference."
   ]
  },
  {
   "cell_type": "code",
   "execution_count": 13,
   "metadata": {},
   "outputs": [
    {
     "name": "stdout",
     "output_type": "stream",
     "text": [
      "Tests Passed\n"
     ]
    }
   ],
   "source": [
    "def decoding_layer(dec_input, encoder_state,\n",
    "                   target_sequence_length, max_target_sequence_length,\n",
    "                   rnn_size,\n",
    "                   num_layers, target_vocab_to_int, target_vocab_size,\n",
    "                   batch_size, keep_prob, decoding_embedding_size):\n",
    "    \"\"\"\n",
    "    Create decoding layer\n",
    "    :param dec_input: Decoder input\n",
    "    :param encoder_state: Encoder state\n",
    "    :param target_sequence_length: The lengths of each sequence in the target batch\n",
    "    :param max_target_sequence_length: Maximum length of target sequences\n",
    "    :param rnn_size: RNN Size\n",
    "    :param num_layers: Number of layers\n",
    "    :param target_vocab_to_int: Dictionary to go from the target words to an id\n",
    "    :param target_vocab_size: Size of target vocabulary\n",
    "    :param batch_size: The size of the batch\n",
    "    :param keep_prob: Dropout keep probability\n",
    "    :return: Tuple of (Training BasicDecoderOutput, Inference BasicDecoderOutput)\n",
    "    \"\"\"\n",
    "    # TODO: Implement Function\n",
    "    def make_cell(rnn_size):\n",
    "        return tf.contrib.rnn.LSTMCell(rnn_size)\n",
    "    dec_cell = tf.contrib.rnn.MultiRNNCell([make_cell(rnn_size) for _ in range(num_layers)])\n",
    "    dec_embeddings = tf.Variable(tf.random_uniform([target_vocab_size, decoding_embedding_size]))\n",
    "    dec_embed_input = tf.nn.embedding_lookup(dec_embeddings, dec_input)\n",
    "    output_layer = Dense(target_vocab_size,\n",
    "                        kernel_initializer = tf.truncated_normal_initializer(mean = 0.0, stddev=0.1))\n",
    "    with tf.variable_scope('decode'):\n",
    "        Train_Decoder = decoding_layer_train(encoder_state, dec_cell, dec_embed_input, \n",
    "                             target_sequence_length, max_target_sequence_length, \n",
    "                             output_layer, keep_prob)\n",
    "    with tf.variable_scope('decode', reuse=True):\n",
    "        Infer_Decoder = decoding_layer_infer(encoder_state, dec_cell, dec_embeddings, target_vocab_to_int['<GO>'],\n",
    "                             target_vocab_to_int['<EOS>'], max_target_sequence_length,\n",
    "                             target_vocab_size, output_layer, batch_size, keep_prob)\n",
    "    \n",
    "    return Train_Decoder, Infer_Decoder\n",
    "\n",
    "\n",
    "\n",
    "\"\"\"\n",
    "DON'T MODIFY ANYTHING IN THIS CELL THAT IS BELOW THIS LINE\n",
    "\"\"\"\n",
    "tests.test_decoding_layer(decoding_layer)"
   ]
  },
  {
   "cell_type": "markdown",
   "metadata": {},
   "source": [
    "### Build the Neural Network\n",
    "Apply the functions you implemented above to:\n",
    "\n",
    "- Apply embedding to the input data for the encoder.\n",
    "- Encode the input using your `encoding_layer(rnn_inputs, rnn_size, num_layers, keep_prob,  source_sequence_length, source_vocab_size, encoding_embedding_size)`.\n",
    "- Process target data using your `process_decoder_input(target_data, target_vocab_to_int, batch_size)` function.\n",
    "- Apply embedding to the target data for the decoder.\n",
    "- Decode the encoded input using your `decoding_layer(dec_input, enc_state, target_sequence_length, max_target_sentence_length, rnn_size, num_layers, target_vocab_to_int, target_vocab_size, batch_size, keep_prob, dec_embedding_size)` function."
   ]
  },
  {
   "cell_type": "code",
   "execution_count": 14,
   "metadata": {},
   "outputs": [
    {
     "name": "stdout",
     "output_type": "stream",
     "text": [
      "Tests Passed\n"
     ]
    }
   ],
   "source": [
    "def seq2seq_model(input_data, target_data, keep_prob, batch_size,\n",
    "                  source_sequence_length, target_sequence_length,\n",
    "                  max_target_sentence_length,\n",
    "                  source_vocab_size, target_vocab_size,\n",
    "                  enc_embedding_size, dec_embedding_size,\n",
    "                  rnn_size, num_layers, target_vocab_to_int):\n",
    "    \"\"\"\n",
    "    Build the Sequence-to-Sequence part of the neural network\n",
    "    :param input_data: Input placeholder\n",
    "    :param target_data: Target placeholder\n",
    "    :param keep_prob: Dropout keep probability placeholder\n",
    "    :param batch_size: Batch Size\n",
    "    :param source_sequence_length: Sequence Lengths of source sequences in the batch\n",
    "    :param target_sequence_length: Sequence Lengths of target sequences in the batch\n",
    "    :param source_vocab_size: Source vocabulary size\n",
    "    :param target_vocab_size: Target vocabulary size\n",
    "    :param enc_embedding_size: Decoder embedding size\n",
    "    :param dec_embedding_size: Encoder embedding size\n",
    "    :param rnn_size: RNN Size\n",
    "    :param num_layers: Number of layers\n",
    "    :param target_vocab_to_int: Dictionary to go from the target words to an id\n",
    "    :return: Tuple of (Training BasicDecoderOutput, Inference BasicDecoderOutput)\n",
    "    \"\"\"\n",
    "    # TODO: Implement Function\n",
    "    \n",
    "    _, enc_state = encoding_layer(input_data, rnn_size, num_layers, keep_prob, source_sequence_length,\n",
    "                           source_vocab_size, enc_embedding_size)\n",
    "    dec_input = process_decoder_input(target_data, target_vocab_to_int, batch_size)\n",
    "    Train_Decode, Infer_Decode = decoding_layer(dec_input, enc_state, target_sequence_length, max_target_sentence_length,\n",
    "                                                rnn_size, num_layers, target_vocab_to_int, target_vocab_size,\n",
    "                                                batch_size, keep_prob, dec_embedding_size)\n",
    "    return Train_Decode, Infer_Decode\n",
    "\n",
    "\n",
    "\"\"\"\n",
    "DON'T MODIFY ANYTHING IN THIS CELL THAT IS BELOW THIS LINE\n",
    "\"\"\"\n",
    "tests.test_seq2seq_model(seq2seq_model)"
   ]
  },
  {
   "cell_type": "markdown",
   "metadata": {},
   "source": [
    "## Neural Network Training\n",
    "### Hyperparameters\n",
    "Tune the following parameters:\n",
    "\n",
    "- Set `epochs` to the number of epochs.\n",
    "- Set `batch_size` to the batch size.\n",
    "- Set `rnn_size` to the size of the RNNs.\n",
    "- Set `num_layers` to the number of layers.\n",
    "- Set `encoding_embedding_size` to the size of the embedding for the encoder.\n",
    "- Set `decoding_embedding_size` to the size of the embedding for the decoder.\n",
    "- Set `learning_rate` to the learning rate.\n",
    "- Set `keep_probability` to the Dropout keep probability\n",
    "- Set `display_step` to state how many steps between each debug output statement"
   ]
  },
  {
   "cell_type": "code",
   "execution_count": 15,
   "metadata": {
    "collapsed": true
   },
   "outputs": [],
   "source": [
    "# Number of Epochs\n",
    "epochs = 10\n",
    "# Batch Size\n",
    "batch_size = 512\n",
    "# RNN Size\n",
    "rnn_size = 256\n",
    "# Number of Layers\n",
    "num_layers = 2\n",
    "# Embedding Size\n",
    "encoding_embedding_size = 95\n",
    "decoding_embedding_size = 95\n",
    "# Learning Rate\n",
    "learning_rate = 0.001\n",
    "# Dropout Keep Probability\n",
    "keep_probability = 0.5\n",
    "display_step = 10\n",
    "# Max target length value"
   ]
  },
  {
   "cell_type": "markdown",
   "metadata": {},
   "source": [
    "### Build the Graph\n",
    "Build the graph using the neural network you implemented."
   ]
  },
  {
   "cell_type": "code",
   "execution_count": 16,
   "metadata": {
    "collapsed": true
   },
   "outputs": [],
   "source": [
    "\"\"\"\n",
    "DON'T MODIFY ANYTHING IN THIS CELL\n",
    "\"\"\"\n",
    "save_path = 'checkpoints/dev'\n",
    "(source_int_text, target_int_text), (source_vocab_to_int, target_vocab_to_int), _ = helper.load_preprocess()\n",
    "max_target_sentence_length = max([len(sentence) for sentence in source_int_text])\n",
    "\n",
    "train_graph = tf.Graph()\n",
    "with train_graph.as_default():\n",
    "    input_data, targets, lr, keep_prob, target_sequence_length, max_target_sequence_length, source_sequence_length = model_inputs()\n",
    "\n",
    "    #sequence_length = tf.placeholder_with_default(max_target_sentence_length, None, name='sequence_length')\n",
    "    input_shape = tf.shape(input_data)\n",
    "\n",
    "    train_logits, inference_logits = seq2seq_model(tf.reverse(input_data, [-1]),\n",
    "                                                   targets,\n",
    "                                                   keep_prob,\n",
    "                                                   batch_size,\n",
    "                                                   source_sequence_length,\n",
    "                                                   target_sequence_length,\n",
    "                                                   max_target_sequence_length,\n",
    "                                                   len(source_vocab_to_int),\n",
    "                                                   len(target_vocab_to_int),\n",
    "                                                   encoding_embedding_size,\n",
    "                                                   decoding_embedding_size,\n",
    "                                                   rnn_size,\n",
    "                                                   num_layers,\n",
    "                                                   target_vocab_to_int)\n",
    "\n",
    "\n",
    "    training_logits = tf.identity(train_logits.rnn_output, name='logits')\n",
    "    inference_logits = tf.identity(inference_logits.sample_id, name='predictions')\n",
    "\n",
    "    masks = tf.sequence_mask(target_sequence_length, max_target_sequence_length, dtype=tf.float32, name='masks')\n",
    "\n",
    "    with tf.name_scope(\"optimization\"):\n",
    "        # Loss function\n",
    "        cost = tf.contrib.seq2seq.sequence_loss(\n",
    "            training_logits,\n",
    "            targets,\n",
    "            masks)\n",
    "\n",
    "        # Optimizer\n",
    "        optimizer = tf.train.AdamOptimizer(lr)\n",
    "\n",
    "        # Gradient Clipping\n",
    "        gradients = optimizer.compute_gradients(cost)\n",
    "        capped_gradients = [(tf.clip_by_value(grad, -1., 1.), var) for grad, var in gradients if grad is not None]\n",
    "        train_op = optimizer.apply_gradients(capped_gradients)\n"
   ]
  },
  {
   "cell_type": "markdown",
   "metadata": {},
   "source": [
    "Batch and pad the source and target sequences"
   ]
  },
  {
   "cell_type": "code",
   "execution_count": 17,
   "metadata": {
    "collapsed": true
   },
   "outputs": [],
   "source": [
    "\"\"\"\n",
    "DON'T MODIFY ANYTHING IN THIS CELL\n",
    "\"\"\"\n",
    "def pad_sentence_batch(sentence_batch, pad_int):\n",
    "    \"\"\"Pad sentences with <PAD> so that each sentence of a batch has the same length\"\"\"\n",
    "    max_sentence = max([len(sentence) for sentence in sentence_batch])\n",
    "    return [sentence + [pad_int] * (max_sentence - len(sentence)) for sentence in sentence_batch]\n",
    "\n",
    "\n",
    "def get_batches(sources, targets, batch_size, source_pad_int, target_pad_int):\n",
    "    \"\"\"Batch targets, sources, and the lengths of their sentences together\"\"\"\n",
    "    for batch_i in range(0, len(sources)//batch_size):\n",
    "        start_i = batch_i * batch_size\n",
    "\n",
    "        # Slice the right amount for the batch\n",
    "        sources_batch = sources[start_i:start_i + batch_size]\n",
    "        targets_batch = targets[start_i:start_i + batch_size]\n",
    "\n",
    "        # Pad\n",
    "        pad_sources_batch = np.array(pad_sentence_batch(sources_batch, source_pad_int))\n",
    "        pad_targets_batch = np.array(pad_sentence_batch(targets_batch, target_pad_int))\n",
    "\n",
    "        # Need the lengths for the _lengths parameters\n",
    "        pad_targets_lengths = []\n",
    "        for target in pad_targets_batch:\n",
    "            pad_targets_lengths.append(len(target))\n",
    "\n",
    "        pad_source_lengths = []\n",
    "        for source in pad_sources_batch:\n",
    "            pad_source_lengths.append(len(source))\n",
    "\n",
    "        yield pad_sources_batch, pad_targets_batch, pad_source_lengths, pad_targets_lengths\n"
   ]
  },
  {
   "cell_type": "markdown",
   "metadata": {},
   "source": [
    "### Train\n",
    "Train the neural network on the preprocessed data. If you have a hard time getting a good loss, check the forms to see if anyone is having the same problem."
   ]
  },
  {
   "cell_type": "code",
   "execution_count": 18,
   "metadata": {
    "scrolled": true
   },
   "outputs": [
    {
     "name": "stdout",
     "output_type": "stream",
     "text": [
      "Epoch   0 Batch   10/269 - Train Accuracy: 0.2826, Validation Accuracy: 0.3541, Loss: 3.8058\n",
      "Epoch   0 Batch   20/269 - Train Accuracy: 0.3426, Validation Accuracy: 0.4022, Loss: 3.2647\n",
      "Epoch   0 Batch   30/269 - Train Accuracy: 0.4076, Validation Accuracy: 0.4376, Loss: 2.8292\n",
      "Epoch   0 Batch   40/269 - Train Accuracy: 0.4063, Validation Accuracy: 0.4615, Loss: 2.7403\n",
      "Epoch   0 Batch   50/269 - Train Accuracy: 0.4333, Validation Accuracy: 0.4807, Loss: 2.5907\n",
      "Epoch   0 Batch   60/269 - Train Accuracy: 0.4649, Validation Accuracy: 0.4819, Loss: 2.2878\n",
      "Epoch   0 Batch   70/269 - Train Accuracy: 0.4569, Validation Accuracy: 0.4745, Loss: 2.2318\n",
      "Epoch   0 Batch   80/269 - Train Accuracy: 0.4599, Validation Accuracy: 0.4735, Loss: 2.0747\n",
      "Epoch   0 Batch   90/269 - Train Accuracy: 0.4284, Validation Accuracy: 0.4950, Loss: 2.1525\n",
      "Epoch   0 Batch  100/269 - Train Accuracy: 0.4544, Validation Accuracy: 0.4682, Loss: 1.8833\n",
      "Epoch   0 Batch  110/269 - Train Accuracy: 0.4736, Validation Accuracy: 0.5008, Loss: 1.8156\n",
      "Epoch   0 Batch  120/269 - Train Accuracy: 0.4203, Validation Accuracy: 0.4767, Loss: 1.7622\n",
      "Epoch   0 Batch  130/269 - Train Accuracy: 0.4004, Validation Accuracy: 0.4656, Loss: 1.7332\n",
      "Epoch   0 Batch  140/269 - Train Accuracy: 0.4394, Validation Accuracy: 0.4730, Loss: 1.5494\n",
      "Epoch   0 Batch  150/269 - Train Accuracy: 0.4498, Validation Accuracy: 0.4829, Loss: 1.5006\n",
      "Epoch   0 Batch  160/269 - Train Accuracy: 0.4561, Validation Accuracy: 0.4843, Loss: 1.4414\n",
      "Epoch   0 Batch  170/269 - Train Accuracy: 0.5079, Validation Accuracy: 0.5256, Loss: 1.3820\n",
      "Epoch   0 Batch  180/269 - Train Accuracy: 0.4864, Validation Accuracy: 0.5124, Loss: 1.3263\n",
      "Epoch   0 Batch  190/269 - Train Accuracy: 0.4958, Validation Accuracy: 0.5272, Loss: 1.2822\n",
      "Epoch   0 Batch  200/269 - Train Accuracy: 0.4895, Validation Accuracy: 0.5336, Loss: 1.3036\n",
      "Epoch   0 Batch  210/269 - Train Accuracy: 0.5169, Validation Accuracy: 0.5328, Loss: 1.2024\n",
      "Epoch   0 Batch  220/269 - Train Accuracy: 0.5196, Validation Accuracy: 0.5318, Loss: 1.1315\n",
      "Epoch   0 Batch  230/269 - Train Accuracy: 0.5127, Validation Accuracy: 0.5358, Loss: 1.1545\n",
      "Epoch   0 Batch  240/269 - Train Accuracy: 0.5498, Validation Accuracy: 0.5331, Loss: 1.0374\n",
      "Epoch   0 Batch  250/269 - Train Accuracy: 0.5131, Validation Accuracy: 0.5424, Loss: 1.0995\n",
      "Epoch   0 Batch  260/269 - Train Accuracy: 0.5269, Validation Accuracy: 0.5494, Loss: 1.1020\n",
      "Epoch   1 Batch   10/269 - Train Accuracy: 0.5167, Validation Accuracy: 0.5484, Loss: 1.0153\n",
      "Epoch   1 Batch   20/269 - Train Accuracy: 0.5355, Validation Accuracy: 0.5631, Loss: 1.0022\n",
      "Epoch   1 Batch   30/269 - Train Accuracy: 0.5537, Validation Accuracy: 0.5525, Loss: 0.9333\n",
      "Epoch   1 Batch   40/269 - Train Accuracy: 0.5299, Validation Accuracy: 0.5665, Loss: 0.9580\n",
      "Epoch   1 Batch   50/269 - Train Accuracy: 0.5393, Validation Accuracy: 0.5684, Loss: 0.9401\n",
      "Epoch   1 Batch   60/269 - Train Accuracy: 0.5647, Validation Accuracy: 0.5700, Loss: 0.8421\n",
      "Epoch   1 Batch   70/269 - Train Accuracy: 0.5786, Validation Accuracy: 0.5687, Loss: 0.8674\n",
      "Epoch   1 Batch   80/269 - Train Accuracy: 0.5807, Validation Accuracy: 0.5769, Loss: 0.8384\n",
      "Epoch   1 Batch   90/269 - Train Accuracy: 0.5525, Validation Accuracy: 0.6016, Loss: 0.8824\n",
      "Epoch   1 Batch  100/269 - Train Accuracy: 0.5977, Validation Accuracy: 0.5953, Loss: 0.8034\n",
      "Epoch   1 Batch  110/269 - Train Accuracy: 0.5850, Validation Accuracy: 0.5978, Loss: 0.7863\n",
      "Epoch   1 Batch  120/269 - Train Accuracy: 0.5788, Validation Accuracy: 0.6036, Loss: 0.8065\n",
      "Epoch   1 Batch  130/269 - Train Accuracy: 0.5633, Validation Accuracy: 0.5963, Loss: 0.7970\n",
      "Epoch   1 Batch  140/269 - Train Accuracy: 0.6077, Validation Accuracy: 0.6093, Loss: 0.7702\n",
      "Epoch   1 Batch  150/269 - Train Accuracy: 0.5944, Validation Accuracy: 0.6053, Loss: 0.7545\n",
      "Epoch   1 Batch  160/269 - Train Accuracy: 0.6058, Validation Accuracy: 0.6102, Loss: 0.7312\n",
      "Epoch   1 Batch  170/269 - Train Accuracy: 0.6112, Validation Accuracy: 0.6072, Loss: 0.7231\n",
      "Epoch   1 Batch  180/269 - Train Accuracy: 0.5995, Validation Accuracy: 0.6127, Loss: 0.7129\n",
      "Epoch   1 Batch  190/269 - Train Accuracy: 0.6080, Validation Accuracy: 0.6197, Loss: 0.6913\n",
      "Epoch   1 Batch  200/269 - Train Accuracy: 0.6060, Validation Accuracy: 0.6144, Loss: 0.7229\n",
      "Epoch   1 Batch  210/269 - Train Accuracy: 0.6121, Validation Accuracy: 0.6190, Loss: 0.6814\n",
      "Epoch   1 Batch  220/269 - Train Accuracy: 0.6191, Validation Accuracy: 0.6197, Loss: 0.6466\n",
      "Epoch   1 Batch  230/269 - Train Accuracy: 0.6044, Validation Accuracy: 0.6220, Loss: 0.6768\n",
      "Epoch   1 Batch  240/269 - Train Accuracy: 0.6398, Validation Accuracy: 0.6262, Loss: 0.6111\n",
      "Epoch   1 Batch  250/269 - Train Accuracy: 0.6085, Validation Accuracy: 0.6239, Loss: 0.6747\n",
      "Epoch   1 Batch  260/269 - Train Accuracy: 0.6119, Validation Accuracy: 0.6294, Loss: 0.6887\n",
      "Epoch   2 Batch   10/269 - Train Accuracy: 0.6149, Validation Accuracy: 0.6412, Loss: 0.6650\n",
      "Epoch   2 Batch   20/269 - Train Accuracy: 0.6168, Validation Accuracy: 0.6458, Loss: 0.6650\n",
      "Epoch   2 Batch   30/269 - Train Accuracy: 0.6236, Validation Accuracy: 0.6385, Loss: 0.6318\n",
      "Epoch   2 Batch   40/269 - Train Accuracy: 0.6119, Validation Accuracy: 0.6428, Loss: 0.6641\n",
      "Epoch   2 Batch   50/269 - Train Accuracy: 0.6125, Validation Accuracy: 0.6356, Loss: 0.6503\n",
      "Epoch   2 Batch   60/269 - Train Accuracy: 0.6393, Validation Accuracy: 0.6531, Loss: 0.5856\n",
      "Epoch   2 Batch   70/269 - Train Accuracy: 0.6376, Validation Accuracy: 0.6317, Loss: 0.6061\n",
      "Epoch   2 Batch   80/269 - Train Accuracy: 0.6528, Validation Accuracy: 0.6510, Loss: 0.5976\n",
      "Epoch   2 Batch   90/269 - Train Accuracy: 0.6028, Validation Accuracy: 0.6498, Loss: 0.6347\n",
      "Epoch   2 Batch  100/269 - Train Accuracy: 0.6579, Validation Accuracy: 0.6499, Loss: 0.5847\n",
      "Epoch   2 Batch  110/269 - Train Accuracy: 0.6400, Validation Accuracy: 0.6419, Loss: 0.5761\n",
      "Epoch   2 Batch  120/269 - Train Accuracy: 0.6342, Validation Accuracy: 0.6536, Loss: 0.6005\n",
      "Epoch   2 Batch  130/269 - Train Accuracy: 0.6091, Validation Accuracy: 0.6503, Loss: 0.6030\n",
      "Epoch   2 Batch  140/269 - Train Accuracy: 0.6474, Validation Accuracy: 0.6566, Loss: 0.5856\n",
      "Epoch   2 Batch  150/269 - Train Accuracy: 0.6495, Validation Accuracy: 0.6547, Loss: 0.5652\n",
      "Epoch   2 Batch  160/269 - Train Accuracy: 0.6536, Validation Accuracy: 0.6640, Loss: 0.5506\n",
      "Epoch   2 Batch  170/269 - Train Accuracy: 0.6516, Validation Accuracy: 0.6543, Loss: 0.5529\n",
      "Epoch   2 Batch  180/269 - Train Accuracy: 0.6513, Validation Accuracy: 0.6612, Loss: 0.5528\n",
      "Epoch   2 Batch  190/269 - Train Accuracy: 0.6525, Validation Accuracy: 0.6559, Loss: 0.5361\n",
      "Epoch   2 Batch  200/269 - Train Accuracy: 0.6482, Validation Accuracy: 0.6582, Loss: 0.5651\n",
      "Epoch   2 Batch  210/269 - Train Accuracy: 0.6665, Validation Accuracy: 0.6681, Loss: 0.5360\n",
      "Epoch   2 Batch  220/269 - Train Accuracy: 0.6590, Validation Accuracy: 0.6685, Loss: 0.5076\n",
      "Epoch   2 Batch  230/269 - Train Accuracy: 0.6541, Validation Accuracy: 0.6626, Loss: 0.5394\n",
      "Epoch   2 Batch  240/269 - Train Accuracy: 0.6873, Validation Accuracy: 0.6638, Loss: 0.4795\n",
      "Epoch   2 Batch  250/269 - Train Accuracy: 0.6485, Validation Accuracy: 0.6654, Loss: 0.5342\n",
      "Epoch   2 Batch  260/269 - Train Accuracy: 0.6459, Validation Accuracy: 0.6612, Loss: 0.5453\n",
      "Epoch   3 Batch   10/269 - Train Accuracy: 0.6467, Validation Accuracy: 0.6586, Loss: 0.5345\n",
      "Epoch   3 Batch   20/269 - Train Accuracy: 0.6494, Validation Accuracy: 0.6591, Loss: 0.5268\n",
      "Epoch   3 Batch   30/269 - Train Accuracy: 0.6743, Validation Accuracy: 0.6636, Loss: 0.5015\n",
      "Epoch   3 Batch   40/269 - Train Accuracy: 0.6464, Validation Accuracy: 0.6682, Loss: 0.5323\n",
      "Epoch   3 Batch   50/269 - Train Accuracy: 0.6500, Validation Accuracy: 0.6741, Loss: 0.5198\n",
      "Epoch   3 Batch   60/269 - Train Accuracy: 0.6798, Validation Accuracy: 0.6747, Loss: 0.4677\n",
      "Epoch   3 Batch   70/269 - Train Accuracy: 0.6882, Validation Accuracy: 0.6661, Loss: 0.4875\n",
      "Epoch   3 Batch   80/269 - Train Accuracy: 0.6957, Validation Accuracy: 0.6730, Loss: 0.4723\n",
      "Epoch   3 Batch   90/269 - Train Accuracy: 0.6521, Validation Accuracy: 0.6814, Loss: 0.4978\n",
      "Epoch   3 Batch  100/269 - Train Accuracy: 0.7071, Validation Accuracy: 0.6792, Loss: 0.4599\n",
      "Epoch   3 Batch  110/269 - Train Accuracy: 0.6766, Validation Accuracy: 0.6737, Loss: 0.4498\n"
     ]
    },
    {
     "name": "stdout",
     "output_type": "stream",
     "text": [
      "Epoch   3 Batch  120/269 - Train Accuracy: 0.6852, Validation Accuracy: 0.6824, Loss: 0.4679\n",
      "Epoch   3 Batch  130/269 - Train Accuracy: 0.6783, Validation Accuracy: 0.6808, Loss: 0.4621\n",
      "Epoch   3 Batch  140/269 - Train Accuracy: 0.6881, Validation Accuracy: 0.6909, Loss: 0.4480\n",
      "Epoch   3 Batch  150/269 - Train Accuracy: 0.7139, Validation Accuracy: 0.6926, Loss: 0.4262\n",
      "Epoch   3 Batch  160/269 - Train Accuracy: 0.6979, Validation Accuracy: 0.6829, Loss: 0.4164\n",
      "Epoch   3 Batch  170/269 - Train Accuracy: 0.7147, Validation Accuracy: 0.7218, Loss: 0.4109\n",
      "Epoch   3 Batch  180/269 - Train Accuracy: 0.7131, Validation Accuracy: 0.7006, Loss: 0.4102\n",
      "Epoch   3 Batch  190/269 - Train Accuracy: 0.7301, Validation Accuracy: 0.7160, Loss: 0.3957\n",
      "Epoch   3 Batch  200/269 - Train Accuracy: 0.7194, Validation Accuracy: 0.7329, Loss: 0.4129\n",
      "Epoch   3 Batch  210/269 - Train Accuracy: 0.7315, Validation Accuracy: 0.7257, Loss: 0.3920\n",
      "Epoch   3 Batch  220/269 - Train Accuracy: 0.7487, Validation Accuracy: 0.7465, Loss: 0.3676\n",
      "Epoch   3 Batch  230/269 - Train Accuracy: 0.7370, Validation Accuracy: 0.7461, Loss: 0.3844\n",
      "Epoch   3 Batch  240/269 - Train Accuracy: 0.7513, Validation Accuracy: 0.7282, Loss: 0.3460\n",
      "Epoch   3 Batch  250/269 - Train Accuracy: 0.7535, Validation Accuracy: 0.7497, Loss: 0.3818\n",
      "Epoch   3 Batch  260/269 - Train Accuracy: 0.7384, Validation Accuracy: 0.7501, Loss: 0.3916\n",
      "Epoch   4 Batch   10/269 - Train Accuracy: 0.7310, Validation Accuracy: 0.7403, Loss: 0.3704\n",
      "Epoch   4 Batch   20/269 - Train Accuracy: 0.7454, Validation Accuracy: 0.7496, Loss: 0.3644\n",
      "Epoch   4 Batch   30/269 - Train Accuracy: 0.7559, Validation Accuracy: 0.7478, Loss: 0.3534\n",
      "Epoch   4 Batch   40/269 - Train Accuracy: 0.7515, Validation Accuracy: 0.7546, Loss: 0.3644\n",
      "Epoch   4 Batch   50/269 - Train Accuracy: 0.7524, Validation Accuracy: 0.7618, Loss: 0.3614\n",
      "Epoch   4 Batch   60/269 - Train Accuracy: 0.7632, Validation Accuracy: 0.7508, Loss: 0.3234\n",
      "Epoch   4 Batch   70/269 - Train Accuracy: 0.7859, Validation Accuracy: 0.7757, Loss: 0.3381\n",
      "Epoch   4 Batch   80/269 - Train Accuracy: 0.7712, Validation Accuracy: 0.7635, Loss: 0.3272\n",
      "Epoch   4 Batch   90/269 - Train Accuracy: 0.7390, Validation Accuracy: 0.7600, Loss: 0.3445\n",
      "Epoch   4 Batch  100/269 - Train Accuracy: 0.7846, Validation Accuracy: 0.7622, Loss: 0.3168\n",
      "Epoch   4 Batch  110/269 - Train Accuracy: 0.7616, Validation Accuracy: 0.7686, Loss: 0.3175\n",
      "Epoch   4 Batch  120/269 - Train Accuracy: 0.7798, Validation Accuracy: 0.7693, Loss: 0.3237\n",
      "Epoch   4 Batch  130/269 - Train Accuracy: 0.7785, Validation Accuracy: 0.7852, Loss: 0.3229\n",
      "Epoch   4 Batch  140/269 - Train Accuracy: 0.7626, Validation Accuracy: 0.7673, Loss: 0.3194\n",
      "Epoch   4 Batch  150/269 - Train Accuracy: 0.7910, Validation Accuracy: 0.7645, Loss: 0.3063\n",
      "Epoch   4 Batch  160/269 - Train Accuracy: 0.7967, Validation Accuracy: 0.7885, Loss: 0.2969\n",
      "Epoch   4 Batch  170/269 - Train Accuracy: 0.7803, Validation Accuracy: 0.7836, Loss: 0.2922\n",
      "Epoch   4 Batch  180/269 - Train Accuracy: 0.7954, Validation Accuracy: 0.7763, Loss: 0.2921\n",
      "Epoch   4 Batch  190/269 - Train Accuracy: 0.8060, Validation Accuracy: 0.7890, Loss: 0.2728\n",
      "Epoch   4 Batch  200/269 - Train Accuracy: 0.7771, Validation Accuracy: 0.7866, Loss: 0.2898\n",
      "Epoch   4 Batch  210/269 - Train Accuracy: 0.8132, Validation Accuracy: 0.7908, Loss: 0.2710\n",
      "Epoch   4 Batch  220/269 - Train Accuracy: 0.8168, Validation Accuracy: 0.7943, Loss: 0.2628\n",
      "Epoch   4 Batch  230/269 - Train Accuracy: 0.7929, Validation Accuracy: 0.7919, Loss: 0.2701\n",
      "Epoch   4 Batch  240/269 - Train Accuracy: 0.8134, Validation Accuracy: 0.7939, Loss: 0.2397\n",
      "Epoch   4 Batch  250/269 - Train Accuracy: 0.8066, Validation Accuracy: 0.7990, Loss: 0.2659\n",
      "Epoch   4 Batch  260/269 - Train Accuracy: 0.7848, Validation Accuracy: 0.7924, Loss: 0.2760\n",
      "Epoch   5 Batch   10/269 - Train Accuracy: 0.8171, Validation Accuracy: 0.8136, Loss: 0.2617\n",
      "Epoch   5 Batch   20/269 - Train Accuracy: 0.8153, Validation Accuracy: 0.8071, Loss: 0.2593\n",
      "Epoch   5 Batch   30/269 - Train Accuracy: 0.8174, Validation Accuracy: 0.8247, Loss: 0.2478\n",
      "Epoch   5 Batch   40/269 - Train Accuracy: 0.7925, Validation Accuracy: 0.8101, Loss: 0.2564\n",
      "Epoch   5 Batch   50/269 - Train Accuracy: 0.8021, Validation Accuracy: 0.8144, Loss: 0.2547\n",
      "Epoch   5 Batch   60/269 - Train Accuracy: 0.8308, Validation Accuracy: 0.8113, Loss: 0.2269\n",
      "Epoch   5 Batch   70/269 - Train Accuracy: 0.8414, Validation Accuracy: 0.8245, Loss: 0.2367\n",
      "Epoch   5 Batch   80/269 - Train Accuracy: 0.8348, Validation Accuracy: 0.8225, Loss: 0.2261\n",
      "Epoch   5 Batch   90/269 - Train Accuracy: 0.8078, Validation Accuracy: 0.8235, Loss: 0.2373\n",
      "Epoch   5 Batch  100/269 - Train Accuracy: 0.8445, Validation Accuracy: 0.8196, Loss: 0.2221\n",
      "Epoch   5 Batch  110/269 - Train Accuracy: 0.8219, Validation Accuracy: 0.8320, Loss: 0.2167\n",
      "Epoch   5 Batch  120/269 - Train Accuracy: 0.8334, Validation Accuracy: 0.8284, Loss: 0.2181\n",
      "Epoch   5 Batch  130/269 - Train Accuracy: 0.8332, Validation Accuracy: 0.8359, Loss: 0.2213\n",
      "Epoch   5 Batch  140/269 - Train Accuracy: 0.8108, Validation Accuracy: 0.8391, Loss: 0.2190\n",
      "Epoch   5 Batch  150/269 - Train Accuracy: 0.8385, Validation Accuracy: 0.8295, Loss: 0.2117\n",
      "Epoch   5 Batch  160/269 - Train Accuracy: 0.8463, Validation Accuracy: 0.8384, Loss: 0.2129\n",
      "Epoch   5 Batch  170/269 - Train Accuracy: 0.8346, Validation Accuracy: 0.8441, Loss: 0.1998\n",
      "Epoch   5 Batch  180/269 - Train Accuracy: 0.8485, Validation Accuracy: 0.8310, Loss: 0.1997\n",
      "Epoch   5 Batch  190/269 - Train Accuracy: 0.8371, Validation Accuracy: 0.8449, Loss: 0.1900\n",
      "Epoch   5 Batch  200/269 - Train Accuracy: 0.8166, Validation Accuracy: 0.8343, Loss: 0.2086\n",
      "Epoch   5 Batch  210/269 - Train Accuracy: 0.8475, Validation Accuracy: 0.8374, Loss: 0.1937\n",
      "Epoch   5 Batch  220/269 - Train Accuracy: 0.8450, Validation Accuracy: 0.8423, Loss: 0.1869\n",
      "Epoch   5 Batch  230/269 - Train Accuracy: 0.8459, Validation Accuracy: 0.8458, Loss: 0.1940\n",
      "Epoch   5 Batch  240/269 - Train Accuracy: 0.8604, Validation Accuracy: 0.8513, Loss: 0.1748\n",
      "Epoch   5 Batch  250/269 - Train Accuracy: 0.8592, Validation Accuracy: 0.8516, Loss: 0.1883\n",
      "Epoch   5 Batch  260/269 - Train Accuracy: 0.8330, Validation Accuracy: 0.8495, Loss: 0.1957\n",
      "Epoch   6 Batch   10/269 - Train Accuracy: 0.8536, Validation Accuracy: 0.8601, Loss: 0.1824\n",
      "Epoch   6 Batch   20/269 - Train Accuracy: 0.8611, Validation Accuracy: 0.8600, Loss: 0.1749\n",
      "Epoch   6 Batch   30/269 - Train Accuracy: 0.8571, Validation Accuracy: 0.8549, Loss: 0.1743\n",
      "Epoch   6 Batch   40/269 - Train Accuracy: 0.8328, Validation Accuracy: 0.8524, Loss: 0.1851\n",
      "Epoch   6 Batch   50/269 - Train Accuracy: 0.8452, Validation Accuracy: 0.8553, Loss: 0.1882\n",
      "Epoch   6 Batch   60/269 - Train Accuracy: 0.8631, Validation Accuracy: 0.8641, Loss: 0.1662\n",
      "Epoch   6 Batch   70/269 - Train Accuracy: 0.8744, Validation Accuracy: 0.8560, Loss: 0.1750\n",
      "Epoch   6 Batch   80/269 - Train Accuracy: 0.8644, Validation Accuracy: 0.8639, Loss: 0.1666\n",
      "Epoch   6 Batch   90/269 - Train Accuracy: 0.8612, Validation Accuracy: 0.8810, Loss: 0.1740\n",
      "Epoch   6 Batch  100/269 - Train Accuracy: 0.8744, Validation Accuracy: 0.8526, Loss: 0.1668\n",
      "Epoch   6 Batch  110/269 - Train Accuracy: 0.8576, Validation Accuracy: 0.8684, Loss: 0.1598\n",
      "Epoch   6 Batch  120/269 - Train Accuracy: 0.8795, Validation Accuracy: 0.8699, Loss: 0.1657\n",
      "Epoch   6 Batch  130/269 - Train Accuracy: 0.8618, Validation Accuracy: 0.8749, Loss: 0.1614\n",
      "Epoch   6 Batch  140/269 - Train Accuracy: 0.8654, Validation Accuracy: 0.8668, Loss: 0.1636\n",
      "Epoch   6 Batch  150/269 - Train Accuracy: 0.8756, Validation Accuracy: 0.8808, Loss: 0.1550\n",
      "Epoch   6 Batch  160/269 - Train Accuracy: 0.8892, Validation Accuracy: 0.8821, Loss: 0.1528\n",
      "Epoch   6 Batch  170/269 - Train Accuracy: 0.8783, Validation Accuracy: 0.8927, Loss: 0.1535\n",
      "Epoch   6 Batch  180/269 - Train Accuracy: 0.8925, Validation Accuracy: 0.8849, Loss: 0.1538\n",
      "Epoch   6 Batch  190/269 - Train Accuracy: 0.8841, Validation Accuracy: 0.8878, Loss: 0.1429\n",
      "Epoch   6 Batch  200/269 - Train Accuracy: 0.8826, Validation Accuracy: 0.8816, Loss: 0.1565\n",
      "Epoch   6 Batch  210/269 - Train Accuracy: 0.8793, Validation Accuracy: 0.8765, Loss: 0.1474\n",
      "Epoch   6 Batch  220/269 - Train Accuracy: 0.8907, Validation Accuracy: 0.8886, Loss: 0.1398\n"
     ]
    },
    {
     "name": "stdout",
     "output_type": "stream",
     "text": [
      "Epoch   6 Batch  230/269 - Train Accuracy: 0.8857, Validation Accuracy: 0.8863, Loss: 0.1437\n",
      "Epoch   6 Batch  240/269 - Train Accuracy: 0.8968, Validation Accuracy: 0.8903, Loss: 0.1323\n",
      "Epoch   6 Batch  250/269 - Train Accuracy: 0.8918, Validation Accuracy: 0.8889, Loss: 0.1466\n",
      "Epoch   6 Batch  260/269 - Train Accuracy: 0.8749, Validation Accuracy: 0.8821, Loss: 0.1501\n",
      "Epoch   7 Batch   10/269 - Train Accuracy: 0.8997, Validation Accuracy: 0.8897, Loss: 0.1370\n",
      "Epoch   7 Batch   20/269 - Train Accuracy: 0.8970, Validation Accuracy: 0.8918, Loss: 0.1381\n",
      "Epoch   7 Batch   30/269 - Train Accuracy: 0.8945, Validation Accuracy: 0.8905, Loss: 0.1386\n",
      "Epoch   7 Batch   40/269 - Train Accuracy: 0.8822, Validation Accuracy: 0.8981, Loss: 0.1449\n",
      "Epoch   7 Batch   50/269 - Train Accuracy: 0.8778, Validation Accuracy: 0.8894, Loss: 0.1392\n",
      "Epoch   7 Batch   60/269 - Train Accuracy: 0.9050, Validation Accuracy: 0.8976, Loss: 0.1279\n",
      "Epoch   7 Batch   70/269 - Train Accuracy: 0.9024, Validation Accuracy: 0.8913, Loss: 0.1312\n",
      "Epoch   7 Batch   80/269 - Train Accuracy: 0.8985, Validation Accuracy: 0.8923, Loss: 0.1274\n",
      "Epoch   7 Batch   90/269 - Train Accuracy: 0.9036, Validation Accuracy: 0.8925, Loss: 0.1349\n",
      "Epoch   7 Batch  100/269 - Train Accuracy: 0.9009, Validation Accuracy: 0.8941, Loss: 0.1337\n",
      "Epoch   7 Batch  110/269 - Train Accuracy: 0.8945, Validation Accuracy: 0.8958, Loss: 0.1246\n",
      "Epoch   7 Batch  120/269 - Train Accuracy: 0.9006, Validation Accuracy: 0.8944, Loss: 0.1222\n",
      "Epoch   7 Batch  130/269 - Train Accuracy: 0.9108, Validation Accuracy: 0.9018, Loss: 0.1219\n",
      "Epoch   7 Batch  140/269 - Train Accuracy: 0.8955, Validation Accuracy: 0.9061, Loss: 0.1295\n",
      "Epoch   7 Batch  150/269 - Train Accuracy: 0.9030, Validation Accuracy: 0.8984, Loss: 0.1244\n",
      "Epoch   7 Batch  160/269 - Train Accuracy: 0.9062, Validation Accuracy: 0.9056, Loss: 0.1143\n",
      "Epoch   7 Batch  170/269 - Train Accuracy: 0.8946, Validation Accuracy: 0.9018, Loss: 0.1162\n",
      "Epoch   7 Batch  180/269 - Train Accuracy: 0.9156, Validation Accuracy: 0.9006, Loss: 0.1200\n",
      "Epoch   7 Batch  190/269 - Train Accuracy: 0.8996, Validation Accuracy: 0.9015, Loss: 0.1110\n",
      "Epoch   7 Batch  200/269 - Train Accuracy: 0.8950, Validation Accuracy: 0.8947, Loss: 0.1163\n",
      "Epoch   7 Batch  210/269 - Train Accuracy: 0.9013, Validation Accuracy: 0.9064, Loss: 0.1188\n",
      "Epoch   7 Batch  220/269 - Train Accuracy: 0.9048, Validation Accuracy: 0.9081, Loss: 0.1137\n",
      "Epoch   7 Batch  230/269 - Train Accuracy: 0.9071, Validation Accuracy: 0.9073, Loss: 0.1168\n",
      "Epoch   7 Batch  240/269 - Train Accuracy: 0.9210, Validation Accuracy: 0.9142, Loss: 0.1012\n",
      "Epoch   7 Batch  250/269 - Train Accuracy: 0.9154, Validation Accuracy: 0.9122, Loss: 0.1080\n",
      "Epoch   7 Batch  260/269 - Train Accuracy: 0.9091, Validation Accuracy: 0.9141, Loss: 0.1201\n",
      "Epoch   8 Batch   10/269 - Train Accuracy: 0.9158, Validation Accuracy: 0.9177, Loss: 0.1064\n",
      "Epoch   8 Batch   20/269 - Train Accuracy: 0.9179, Validation Accuracy: 0.9184, Loss: 0.1042\n",
      "Epoch   8 Batch   30/269 - Train Accuracy: 0.9195, Validation Accuracy: 0.9088, Loss: 0.1077\n",
      "Epoch   8 Batch   40/269 - Train Accuracy: 0.9086, Validation Accuracy: 0.9143, Loss: 0.1165\n",
      "Epoch   8 Batch   50/269 - Train Accuracy: 0.8962, Validation Accuracy: 0.9184, Loss: 0.1115\n",
      "Epoch   8 Batch   60/269 - Train Accuracy: 0.9177, Validation Accuracy: 0.9210, Loss: 0.0962\n",
      "Epoch   8 Batch   70/269 - Train Accuracy: 0.9199, Validation Accuracy: 0.9128, Loss: 0.1034\n",
      "Epoch   8 Batch   80/269 - Train Accuracy: 0.9131, Validation Accuracy: 0.9133, Loss: 0.1005\n",
      "Epoch   8 Batch   90/269 - Train Accuracy: 0.9144, Validation Accuracy: 0.9140, Loss: 0.1047\n",
      "Epoch   8 Batch  100/269 - Train Accuracy: 0.9216, Validation Accuracy: 0.9173, Loss: 0.0985\n",
      "Epoch   8 Batch  110/269 - Train Accuracy: 0.9132, Validation Accuracy: 0.9173, Loss: 0.0957\n",
      "Epoch   8 Batch  120/269 - Train Accuracy: 0.9169, Validation Accuracy: 0.9198, Loss: 0.0991\n",
      "Epoch   8 Batch  130/269 - Train Accuracy: 0.9203, Validation Accuracy: 0.9096, Loss: 0.1007\n",
      "Epoch   8 Batch  140/269 - Train Accuracy: 0.9187, Validation Accuracy: 0.9205, Loss: 0.0998\n",
      "Epoch   8 Batch  150/269 - Train Accuracy: 0.9209, Validation Accuracy: 0.9187, Loss: 0.0963\n",
      "Epoch   8 Batch  160/269 - Train Accuracy: 0.9191, Validation Accuracy: 0.9201, Loss: 0.0967\n",
      "Epoch   8 Batch  170/269 - Train Accuracy: 0.9120, Validation Accuracy: 0.9182, Loss: 0.0883\n",
      "Epoch   8 Batch  180/269 - Train Accuracy: 0.9347, Validation Accuracy: 0.9247, Loss: 0.0943\n",
      "Epoch   8 Batch  190/269 - Train Accuracy: 0.9163, Validation Accuracy: 0.9231, Loss: 0.0914\n",
      "Epoch   8 Batch  200/269 - Train Accuracy: 0.9158, Validation Accuracy: 0.9235, Loss: 0.0959\n",
      "Epoch   8 Batch  210/269 - Train Accuracy: 0.9098, Validation Accuracy: 0.9186, Loss: 0.0972\n",
      "Epoch   8 Batch  220/269 - Train Accuracy: 0.9160, Validation Accuracy: 0.9224, Loss: 0.0920\n",
      "Epoch   8 Batch  230/269 - Train Accuracy: 0.9223, Validation Accuracy: 0.9234, Loss: 0.0903\n",
      "Epoch   8 Batch  240/269 - Train Accuracy: 0.9324, Validation Accuracy: 0.9205, Loss: 0.0788\n",
      "Epoch   8 Batch  250/269 - Train Accuracy: 0.9342, Validation Accuracy: 0.9294, Loss: 0.0867\n",
      "Epoch   8 Batch  260/269 - Train Accuracy: 0.9190, Validation Accuracy: 0.9214, Loss: 0.0979\n",
      "Epoch   9 Batch   10/269 - Train Accuracy: 0.9275, Validation Accuracy: 0.9234, Loss: 0.0882\n",
      "Epoch   9 Batch   20/269 - Train Accuracy: 0.9257, Validation Accuracy: 0.9288, Loss: 0.0906\n",
      "Epoch   9 Batch   30/269 - Train Accuracy: 0.9365, Validation Accuracy: 0.9225, Loss: 0.0848\n",
      "Epoch   9 Batch   40/269 - Train Accuracy: 0.9162, Validation Accuracy: 0.9283, Loss: 0.0941\n",
      "Epoch   9 Batch   50/269 - Train Accuracy: 0.9100, Validation Accuracy: 0.9263, Loss: 0.0944\n",
      "Epoch   9 Batch   60/269 - Train Accuracy: 0.9288, Validation Accuracy: 0.9308, Loss: 0.0816\n",
      "Epoch   9 Batch   70/269 - Train Accuracy: 0.9315, Validation Accuracy: 0.9203, Loss: 0.0896\n",
      "Epoch   9 Batch   80/269 - Train Accuracy: 0.9255, Validation Accuracy: 0.9284, Loss: 0.0846\n",
      "Epoch   9 Batch   90/269 - Train Accuracy: 0.9307, Validation Accuracy: 0.9276, Loss: 0.0823\n",
      "Epoch   9 Batch  100/269 - Train Accuracy: 0.9274, Validation Accuracy: 0.9158, Loss: 0.0879\n",
      "Epoch   9 Batch  110/269 - Train Accuracy: 0.9245, Validation Accuracy: 0.9236, Loss: 0.0853\n",
      "Epoch   9 Batch  120/269 - Train Accuracy: 0.9236, Validation Accuracy: 0.9273, Loss: 0.0831\n",
      "Epoch   9 Batch  130/269 - Train Accuracy: 0.9331, Validation Accuracy: 0.9267, Loss: 0.0838\n",
      "Epoch   9 Batch  140/269 - Train Accuracy: 0.9195, Validation Accuracy: 0.9273, Loss: 0.0852\n",
      "Epoch   9 Batch  150/269 - Train Accuracy: 0.9275, Validation Accuracy: 0.9287, Loss: 0.0802\n",
      "Epoch   9 Batch  160/269 - Train Accuracy: 0.9346, Validation Accuracy: 0.9253, Loss: 0.0775\n",
      "Epoch   9 Batch  170/269 - Train Accuracy: 0.9239, Validation Accuracy: 0.9299, Loss: 0.0733\n",
      "Epoch   9 Batch  180/269 - Train Accuracy: 0.9360, Validation Accuracy: 0.9289, Loss: 0.0792\n",
      "Epoch   9 Batch  190/269 - Train Accuracy: 0.9301, Validation Accuracy: 0.9279, Loss: 0.0765\n",
      "Epoch   9 Batch  200/269 - Train Accuracy: 0.9362, Validation Accuracy: 0.9326, Loss: 0.0746\n",
      "Epoch   9 Batch  210/269 - Train Accuracy: 0.9172, Validation Accuracy: 0.9267, Loss: 0.0757\n",
      "Epoch   9 Batch  220/269 - Train Accuracy: 0.9338, Validation Accuracy: 0.9289, Loss: 0.0740\n",
      "Epoch   9 Batch  230/269 - Train Accuracy: 0.9284, Validation Accuracy: 0.9267, Loss: 0.0762\n",
      "Epoch   9 Batch  240/269 - Train Accuracy: 0.9342, Validation Accuracy: 0.9355, Loss: 0.0695\n",
      "Epoch   9 Batch  250/269 - Train Accuracy: 0.9401, Validation Accuracy: 0.9353, Loss: 0.0734\n",
      "Epoch   9 Batch  260/269 - Train Accuracy: 0.9358, Validation Accuracy: 0.9326, Loss: 0.0824\n",
      "Model Trained and Saved\n"
     ]
    }
   ],
   "source": [
    "\"\"\"\n",
    "DON'T MODIFY ANYTHING IN THIS CELL\n",
    "\"\"\"\n",
    "def get_accuracy(target, logits):\n",
    "    \"\"\"\n",
    "    Calculate accuracy\n",
    "    \"\"\"\n",
    "    max_seq = max(target.shape[1], logits.shape[1])\n",
    "    if max_seq - target.shape[1]:\n",
    "        target = np.pad(\n",
    "            target,\n",
    "            [(0,0),(0,max_seq - target.shape[1])],\n",
    "            'constant')\n",
    "    if max_seq - logits.shape[1]:\n",
    "        logits = np.pad(\n",
    "            logits,\n",
    "            [(0,0),(0,max_seq - logits.shape[1])],\n",
    "            'constant')\n",
    "\n",
    "    return np.mean(np.equal(target, logits))\n",
    "\n",
    "# Split data to training and validation sets\n",
    "train_source = source_int_text[batch_size:]\n",
    "train_target = target_int_text[batch_size:]\n",
    "valid_source = source_int_text[:batch_size]\n",
    "valid_target = target_int_text[:batch_size]\n",
    "(valid_sources_batch, valid_targets_batch, valid_sources_lengths, valid_targets_lengths ) = next(get_batches(valid_source,\n",
    "                                                                                                             valid_target,\n",
    "                                                                                                             batch_size,\n",
    "                                                                                                             source_vocab_to_int['<PAD>'],\n",
    "                                                                                                             target_vocab_to_int['<PAD>']))                                                                                                  \n",
    "with tf.Session(graph=train_graph) as sess:\n",
    "    sess.run(tf.global_variables_initializer())\n",
    "\n",
    "    for epoch_i in range(epochs):\n",
    "        for batch_i, (source_batch, target_batch, sources_lengths, targets_lengths) in enumerate(\n",
    "                get_batches(train_source, train_target, batch_size,\n",
    "                            source_vocab_to_int['<PAD>'],\n",
    "                            target_vocab_to_int['<PAD>'])):\n",
    "\n",
    "            _, loss = sess.run(\n",
    "                [train_op, cost],\n",
    "                {input_data: source_batch,\n",
    "                 targets: target_batch,\n",
    "                 lr: learning_rate,\n",
    "                 target_sequence_length: targets_lengths,\n",
    "                 source_sequence_length: sources_lengths,\n",
    "                 keep_prob: keep_probability})\n",
    "\n",
    "\n",
    "            if batch_i % display_step == 0 and batch_i > 0:\n",
    "\n",
    "\n",
    "                batch_train_logits = sess.run(\n",
    "                    inference_logits,\n",
    "                    {input_data: source_batch,\n",
    "                     source_sequence_length: sources_lengths,\n",
    "                     target_sequence_length: targets_lengths,\n",
    "                     keep_prob: 1.0})\n",
    "\n",
    "\n",
    "                batch_valid_logits = sess.run(\n",
    "                    inference_logits,\n",
    "                    {input_data: valid_sources_batch,\n",
    "                     source_sequence_length: valid_sources_lengths,\n",
    "                     target_sequence_length: valid_targets_lengths,\n",
    "                     keep_prob: 1.0})\n",
    "\n",
    "                train_acc = get_accuracy(target_batch, batch_train_logits)\n",
    "\n",
    "                valid_acc = get_accuracy(valid_targets_batch, batch_valid_logits)\n",
    "\n",
    "                print('Epoch {:>3} Batch {:>4}/{} - Train Accuracy: {:>6.4f}, Validation Accuracy: {:>6.4f}, Loss: {:>6.4f}'\n",
    "                      .format(epoch_i, batch_i, len(source_int_text) // batch_size, train_acc, valid_acc, loss))\n",
    "\n",
    "    # Save Model\n",
    "    saver = tf.train.Saver()\n",
    "    saver.save(sess, save_path)\n",
    "    print('Model Trained and Saved')"
   ]
  },
  {
   "cell_type": "markdown",
   "metadata": {},
   "source": [
    "### Save Parameters\n",
    "Save the `batch_size` and `save_path` parameters for inference."
   ]
  },
  {
   "cell_type": "code",
   "execution_count": 20,
   "metadata": {
    "collapsed": true
   },
   "outputs": [],
   "source": [
    "\"\"\"\n",
    "DON'T MODIFY ANYTHING IN THIS CELL\n",
    "\"\"\"\n",
    "# Save parameters for checkpoint\n",
    "helper.save_params(save_path)"
   ]
  },
  {
   "cell_type": "markdown",
   "metadata": {},
   "source": [
    "# Checkpoint"
   ]
  },
  {
   "cell_type": "code",
   "execution_count": 21,
   "metadata": {
    "collapsed": true
   },
   "outputs": [],
   "source": [
    "\"\"\"\n",
    "DON'T MODIFY ANYTHING IN THIS CELL\n",
    "\"\"\"\n",
    "import tensorflow as tf\n",
    "import numpy as np\n",
    "import helper\n",
    "import problem_unittests as tests\n",
    "\n",
    "_, (source_vocab_to_int, target_vocab_to_int), (source_int_to_vocab, target_int_to_vocab) = helper.load_preprocess()\n",
    "load_path = helper.load_params()"
   ]
  },
  {
   "cell_type": "markdown",
   "metadata": {},
   "source": [
    "## Sentence to Sequence\n",
    "To feed a sentence into the model for translation, you first need to preprocess it.  Implement the function `sentence_to_seq()` to preprocess new sentences.\n",
    "\n",
    "- Convert the sentence to lowercase\n",
    "- Convert words into ids using `vocab_to_int`\n",
    " - Convert words not in the vocabulary, to the `<UNK>` word id."
   ]
  },
  {
   "cell_type": "code",
   "execution_count": 22,
   "metadata": {},
   "outputs": [
    {
     "name": "stdout",
     "output_type": "stream",
     "text": [
      "Tests Passed\n"
     ]
    }
   ],
   "source": [
    "def sentence_to_seq(sentence, vocab_to_int):\n",
    "    \"\"\"\n",
    "    Convert a sentence to a sequence of ids\n",
    "    :param sentence: String\n",
    "    :param vocab_to_int: Dictionary to go from the words to an id\n",
    "    :return: List of word ids\n",
    "    \"\"\"\n",
    "    # TODO: Implement Function\n",
    "    lower_sentence = str.lower(sentence)\n",
    "    return [vocab_to_int.get(word, vocab_to_int['<UNK>']) for word in lower_sentence.split()]\n",
    "\n",
    "\n",
    "\"\"\"\n",
    "DON'T MODIFY ANYTHING IN THIS CELL THAT IS BELOW THIS LINE\n",
    "\"\"\"\n",
    "tests.test_sentence_to_seq(sentence_to_seq)"
   ]
  },
  {
   "cell_type": "markdown",
   "metadata": {},
   "source": [
    "## Translate\n",
    "This will translate `translate_sentence` from English to French."
   ]
  },
  {
   "cell_type": "code",
   "execution_count": 23,
   "metadata": {},
   "outputs": [
    {
     "name": "stdout",
     "output_type": "stream",
     "text": [
      "INFO:tensorflow:Restoring parameters from checkpoints/dev\n",
      "Input\n",
      "  Word Ids:      [90, 149, 47, 98, 62, 118, 30]\n",
      "  English Words: ['he', 'saw', 'a', 'old', 'yellow', 'truck', '.']\n",
      "\n",
      "Prediction\n",
      "  Word Ids:      [209, 7, 130, 205, 246, 9, 1]\n",
      "  French Words: il conduit un camion jaune . <EOS>\n"
     ]
    }
   ],
   "source": [
    "translate_sentence = 'he saw a old yellow truck .'\n",
    "\n",
    "\n",
    "\"\"\"\n",
    "DON'T MODIFY ANYTHING IN THIS CELL\n",
    "\"\"\"\n",
    "translate_sentence = sentence_to_seq(translate_sentence, source_vocab_to_int)\n",
    "\n",
    "loaded_graph = tf.Graph()\n",
    "with tf.Session(graph=loaded_graph) as sess:\n",
    "    # Load saved model\n",
    "    loader = tf.train.import_meta_graph(load_path + '.meta')\n",
    "    loader.restore(sess, load_path)\n",
    "\n",
    "    input_data = loaded_graph.get_tensor_by_name('input:0')\n",
    "    logits = loaded_graph.get_tensor_by_name('predictions:0')\n",
    "    target_sequence_length = loaded_graph.get_tensor_by_name('target_sequence_length:0')\n",
    "    source_sequence_length = loaded_graph.get_tensor_by_name('source_sequence_length:0')\n",
    "    keep_prob = loaded_graph.get_tensor_by_name('keep_prob:0')\n",
    "\n",
    "    translate_logits = sess.run(logits, {input_data: [translate_sentence]*batch_size,\n",
    "                                         target_sequence_length: [len(translate_sentence)*2]*batch_size,\n",
    "                                         source_sequence_length: [len(translate_sentence)]*batch_size,\n",
    "                                         keep_prob: 1.0})[0]\n",
    "\n",
    "print('Input')\n",
    "print('  Word Ids:      {}'.format([i for i in translate_sentence]))\n",
    "print('  English Words: {}'.format([source_int_to_vocab[i] for i in translate_sentence]))\n",
    "\n",
    "print('\\nPrediction')\n",
    "print('  Word Ids:      {}'.format([i for i in translate_logits]))\n",
    "print('  French Words: {}'.format(\" \".join([target_int_to_vocab[i] for i in translate_logits])))\n"
   ]
  },
  {
   "cell_type": "markdown",
   "metadata": {},
   "source": [
    "## Imperfect Translation\n",
    "You might notice that some sentences translate better than others.  Since the dataset you're using only has a vocabulary of 227 English words of the thousands that you use, you're only going to see good results using these words.  For this project, you don't need a perfect translation. However, if you want to create a better translation model, you'll need better data.\n",
    "\n",
    "You can train on the [WMT10 French-English corpus](http://www.statmt.org/wmt10/training-giga-fren.tar).  This dataset has more vocabulary and richer in topics discussed.  However, this will take you days to train, so make sure you've a GPU and the neural network is performing well on dataset we provided.  Just make sure you play with the WMT10 corpus after you've submitted this project.\n",
    "## Submitting This Project\n",
    "When submitting this project, make sure to run all the cells before saving the notebook. Save the notebook file as \"dlnd_language_translation.ipynb\" and save it as a HTML file under \"File\" -> \"Download as\". Include the \"helper.py\" and \"problem_unittests.py\" files in your submission."
   ]
  }
 ],
 "metadata": {
  "anaconda-cloud": {},
  "kernelspec": {
   "display_name": "Python 3",
   "language": "python",
   "name": "python3"
  },
  "language_info": {
   "codemirror_mode": {
    "name": "ipython",
    "version": 3
   },
   "file_extension": ".py",
   "mimetype": "text/x-python",
   "name": "python",
   "nbconvert_exporter": "python",
   "pygments_lexer": "ipython3",
   "version": "3.5.2"
  },
  "widgets": {
   "state": {},
   "version": "1.1.2"
  }
 },
 "nbformat": 4,
 "nbformat_minor": 1
}
